﻿{
  "metadata": {
    "name": "ProgramacionScala",
    "kernelspec": {
      "language": "scala",
      "name": "spark2-scala"
    },
    "language_info": {
      "codemirror_mode": "text/x-scala",
      "file_extension": ".scala",
      "mimetype": "text/x-scala",
      "name": "scala",
      "pygments_lexer": "scala"
    }
  },
  "nbformat": 4,
  "nbformat_minor": 2,
  "cells": [
    {
      "cell_type": "code",
      "execution_count": 0,
      "metadata": {
        "autoscroll": "auto"
      },
      "outputs": [],
      "source": "%spark\n2 + 2"
    },
    {
      "cell_type": "code",
      "execution_count": 1,
      "metadata": {
        "autoscroll": "auto"
      },
      "outputs": [],
      "source": "%spark\nprintln(\"hello world\")"
    },
    {
      "cell_type": "code",
      "execution_count": 2,
      "metadata": {
        "autoscroll": "auto"
      },
      "outputs": [],
      "source": "%spark\ndef add(firstInput: Int, secondInput: Int): Int \u003d {\n  val sum \u003d firstInput + secondInput\n  return sum\n}"
    },
    {
      "cell_type": "code",
      "execution_count": 3,
      "metadata": {
        "autoscroll": "auto"
      },
      "outputs": [],
      "source": "%spark\nadd(8,12)\n"
    },
    {
      "cell_type": "code",
      "execution_count": 4,
      "metadata": {
        "autoscroll": "auto"
      },
      "outputs": [],
      "source": "%spark\ndef add(firstInput: Int, secondInput: Int) \u003d firstInput + secondInput"
    },
    {
      "cell_type": "code",
      "execution_count": 5,
      "metadata": {
        "autoscroll": "auto"
      },
      "outputs": [],
      "source": "%spark\nadd(8,12)\n"
    },
    {
      "cell_type": "code",
      "execution_count": 6,
      "metadata": {
        "autoscroll": "auto"
      },
      "outputs": [],
      "source": "%spark\ndef encode(n: Int, f: (Int) \u003d\u003e Long): Long \u003d {\n  val x \u003d n * 10\n  f(x)\n}"
    },
    {
      "cell_type": "code",
      "execution_count": 7,
      "metadata": {
        "autoscroll": "auto"
      },
      "outputs": [],
      "source": "%spark\nencode(5,"
    },
    {
      "cell_type": "code",
      "execution_count": 8,
      "metadata": {
        "autoscroll": "auto"
      },
      "outputs": [],
      "source": "%spark\ndef exponencia(x: Int): Int\u003d{\n    val z \u003d x*x\n    return z\n}\nencode(5, exponencia)"
    },
    {
      "cell_type": "code",
      "execution_count": 9,
      "metadata": {
        "autoscroll": "auto"
      },
      "outputs": [],
      "source": "%spark\nval code \u003d encode(10, (x: Int) \u003d\u003e x + 100)\nprintln(code)"
    },
    {
      "cell_type": "code",
      "execution_count": 10,
      "metadata": {
        "autoscroll": "auto"
      },
      "outputs": [],
      "source": "%spark\ndef encodeWithSeed(num: Int, seed: Int): Long \u003d {\n    def encode(x: Int, func: (Int) \u003d\u003e Int): Long \u003d {\n        val y \u003d x + 1000\n        func(y)\n    }\n    val result \u003d encode(num, (n: Int) \u003d\u003e (n * seed))\n    result\n}"
    },
    {
      "cell_type": "code",
      "execution_count": 11,
      "metadata": {
        "autoscroll": "auto"
      },
      "outputs": [],
      "source": "%spark\n"
    },
    {
      "cell_type": "code",
      "execution_count": 12,
      "metadata": {
        "autoscroll": "auto"
      },
      "outputs": [],
      "source": "%spark\nencodeWithSeed(5,5)"
    },
    {
      "cell_type": "code",
      "execution_count": 13,
      "metadata": {
        "autoscroll": "auto"
      },
      "outputs": [],
      "source": "%spark\nclass Car(mk: String, ml: String, cr: String) {\n    val make \u003d mk\n    val model \u003d ml\n    var color \u003d cr\n    def repaint(newColor: String) \u003d {\n        color \u003d newColor\n    }\n}"
    },
    {
      "cell_type": "code",
      "execution_count": 14,
      "metadata": {
        "autoscroll": "auto"
      },
      "outputs": [],
      "source": "%spark\nval mustang \u003d new Car(\"Ford\", \"Mustang\", \"Red\")\nval corvette \u003d new Car(\"GM\", \"Corvette\", \"Black\")"
    },
    {
      "cell_type": "code",
      "execution_count": 15,
      "metadata": {
        "autoscroll": "auto"
      },
      "outputs": [],
      "source": "%spark\nmustang.color"
    },
    {
      "cell_type": "code",
      "execution_count": 16,
      "metadata": {
        "autoscroll": "auto"
      },
      "outputs": [],
      "source": "%spark\nimport scala.math._\n\ncase class Circle(radius: Double) {\n  import Circle._\n  def area: Double \u003d calculateArea(radius)\n}\n\nobject Circle {\n  private def calculateArea(radius: Double): Double \u003d Pi * pow(radius, 2.0)\n}\n\nval circle1 \u003d Circle(5.0)\n\ncircle1.area"
    },
    {
      "cell_type": "code",
      "execution_count": 17,
      "metadata": {
        "autoscroll": "auto"
      },
      "outputs": [],
      "source": "%spark\ncase class Message(from: String, to: String, content: String)"
    },
    {
      "cell_type": "code",
      "execution_count": 18,
      "metadata": {
        "autoscroll": "auto"
      },
      "outputs": [],
      "source": "%spark\nval request \u003d Message(\"harry\", \"sam\", \"fight\")"
    },
    {
      "cell_type": "code",
      "execution_count": 19,
      "metadata": {
        "autoscroll": "auto"
      },
      "outputs": [],
      "source": "%spark\nrequest.from"
    },
    {
      "cell_type": "code",
      "execution_count": 20,
      "metadata": {
        "autoscroll": "auto"
      },
      "outputs": [],
      "source": "%spark\ndef colorToNumber(color: String): Int \u003d {\n    color match {\n            case \"Red\" \u003d\u003e 1\n            case \"Blue\" \u003d\u003e 2\n            case \"Green\" \u003d\u003e 3\n            case \"Yellow\" \u003d\u003e 4\n            case _ \u003d\u003e 0\n        }\n}"
    },
    {
      "cell_type": "code",
      "execution_count": 21,
      "metadata": {
        "autoscroll": "auto"
      },
      "outputs": [],
      "source": "%spark\ncolorToNumber(\"Blue\")"
    },
    {
      "cell_type": "code",
      "execution_count": 22,
      "metadata": {
        "autoscroll": "auto"
      },
      "outputs": [],
      "source": "%spark\nval x \u003d 10\nval y \u003d 20\nval z \u003d x + y"
    },
    {
      "cell_type": "code",
      "execution_count": 23,
      "metadata": {
        "autoscroll": "auto"
      },
      "outputs": [],
      "source": "%spark\ntrait Shape {\n    def area(): Int\n}\n\nclass Square(length: Int) extends Shape {\n    def area \u003d length * length\n}\n\nclass Rectangle(length: Int, width: Int) extends Shape {\n    def area \u003d length * width\n}\n\nval square \u003d new Square(10)\nval area \u003d square.area"
    },
    {
      "cell_type": "code",
      "execution_count": 24,
      "metadata": {
        "autoscroll": "auto"
      },
      "outputs": [],
      "source": "%spark\nval twoElements \u003d (\"10\", true)\nval threeElements \u003d  (\"10\", \"harry\", true)\nval first \u003d threeElements._1\nval second \u003d threeElements._2\nval third \u003d threeElements._3"
    },
    {
      "cell_type": "code",
      "execution_count": 25,
      "metadata": {
        "autoscroll": "auto"
      },
      "outputs": [],
      "source": "%spark\ndef colorCode(color: String): Option[Int] \u003d {\n    color match {\n        case \"red\" \u003d\u003e Some(1)\n        case \"blue\" \u003d\u003e Some(2)\n        case \"green\" \u003d\u003e Some(3)\n        case _ \u003d\u003e None\n    } \n}\nval code \u003d colorCode(\"orange\")\ncode match {\n    case Some(c) \u003d\u003e println(\"code for orange is: \" + c)\n    case None \u003d\u003e println(\"code not defined for orange\")\n}"
    },
    {
      "cell_type": "code",
      "execution_count": 26,
      "metadata": {
        "autoscroll": "auto"
      },
      "outputs": [],
      "source": "%spark\nval arr \u003d Array(10, 20, 30, 40)\narr(0) \u003d 50\nval first \u003d arr(0)\n"
    },
    {
      "cell_type": "code",
      "execution_count": 27,
      "metadata": {
        "autoscroll": "auto"
      },
      "outputs": [],
      "source": "%spark\nval xs \u003d List(10,20,30,40)\nval ys \u003d (1 to 100).toList\nval zs \u003d arr.toList"
    },
    {
      "cell_type": "code",
      "execution_count": 28,
      "metadata": {
        "autoscroll": "auto"
      },
      "outputs": [],
      "source": "%spark\nval v1 \u003d Vector(0, 10, 20, 30, 40)\nval v2 \u003d v1 :+ 50\nval v3 \u003d v2 :+ 60\nval v4 \u003d v3(4)\nval v5 \u003d v3(5)"
    },
    {
      "cell_type": "code",
      "execution_count": 29,
      "metadata": {
        "autoscroll": "auto"
      },
      "outputs": [],
      "source": "%spark\nval fruits \u003d Set(\"apple\", \"orange\", \"pear\", \"banana\")"
    },
    {
      "cell_type": "code",
      "execution_count": 30,
      "metadata": {
        "autoscroll": "auto"
      },
      "outputs": [],
      "source": "%spark\nval capitals \u003d Map(\"USA\" -\u003e \"Washington D.C.\", \"UK\" -\u003e \"London\", \"India\" -\u003e \"New Delhi\")\nval indiaCapital \u003d capitals(\"India\")"
    },
    {
      "cell_type": "code",
      "execution_count": 31,
      "metadata": {
        "autoscroll": "auto"
      },
      "outputs": [],
      "source": "%spark\nval xs \u003d List(1, 2, 3, 4)\nval ys \u003d xs.map((x: Int) \u003d\u003e x * 10.0)"
    },
    {
      "cell_type": "code",
      "execution_count": 32,
      "metadata": {
        "autoscroll": "auto"
      },
      "outputs": [],
      "source": "%spark\nval ys \u003d xs.map{(x: Int) \u003d\u003e x * 10.0}"
    },
    {
      "cell_type": "code",
      "execution_count": 33,
      "metadata": {
        "autoscroll": "auto"
      },
      "outputs": [],
      "source": "%spark\nval ys \u003d xs map {x \u003d\u003e x * 10.0}"
    },
    {
      "cell_type": "code",
      "execution_count": 34,
      "metadata": {
        "autoscroll": "auto"
      },
      "outputs": [],
      "source": "%spark\nval ys \u003d xs map {_ * 10.0}"
    },
    {
      "cell_type": "code",
      "execution_count": 35,
      "metadata": {
        "autoscroll": "auto"
      },
      "outputs": [],
      "source": "%spark\nval line \u003d \"Scala is fun\"\nval SingleSpace \u003d \" \"\nval words \u003d line.split(SingleSpace)\nval arrayOfChars \u003d words flatMap {_.toList}"
    },
    {
      "cell_type": "code",
      "execution_count": 36,
      "metadata": {
        "autoscroll": "auto"
      },
      "outputs": [],
      "source": "%spark\nval xs \u003d (1 to 100).toList\nval even \u003d xs filter {_ %2 \u003d\u003d 0}"
    },
    {
      "cell_type": "code",
      "execution_count": 37,
      "metadata": {
        "autoscroll": "auto"
      },
      "outputs": [],
      "source": "%spark\nval words \u003d \"Scala is fun\".split(\" \")\nwords.foreach(println)"
    },
    {
      "cell_type": "code",
      "execution_count": 38,
      "metadata": {
        "autoscroll": "auto"
      },
      "outputs": [],
      "source": "%spark\nval xs \u003d List(2, 4, 6, 8, 10)\nval sum  \u003d xs reduce {(x,y) \u003d\u003e x + y}\nval product  \u003d xs reduce {(x,y) \u003d\u003e x * y}\nval max \u003d xs reduce {(x,y) \u003d\u003e if (x \u003e y) x else y}\nval min \u003d xs reduce {(x,y) \u003d\u003e if (x \u003c y) x else y}"
    },
    {
      "cell_type": "code",
      "execution_count": 39,
      "metadata": {
        "autoscroll": "auto"
      },
      "outputs": [],
      "source": "%spark\nval words \u003d \"Scala is fun\" split(\" \")\nval longestWord \u003d words reduce {(w1, w2) \u003d\u003e if(w1.length \u003e w2.length) w1 else w2}"
    },
    {
      "cell_type": "code",
      "execution_count": 40,
      "metadata": {
        "autoscroll": "auto"
      },
      "outputs": [],
      "source": "%spark\n"
    }
  ]
}